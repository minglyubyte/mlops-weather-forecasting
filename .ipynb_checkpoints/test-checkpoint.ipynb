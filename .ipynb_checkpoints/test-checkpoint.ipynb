{
 "cells": [
  {
   "cell_type": "code",
   "execution_count": 3,
   "id": "a195e27e-572a-40b1-8179-97c806520465",
   "metadata": {},
   "outputs": [],
   "source": [
    "import requests\n",
    "import pytz\n",
    "import datetime\n",
    "import pandas as pd\n",
    "from pydantic import BaseModel\n",
    "from sqlalchemy import create_engine, text"
   ]
  },
  {
   "cell_type": "code",
   "execution_count": 9,
   "id": "f315e3b4-5cb4-45eb-aeac-48b1279c7ef1",
   "metadata": {},
   "outputs": [],
   "source": [
    "url = \"http://ec2-3-145-196-99.us-east-2.compute.amazonaws.com:8000/monitor\"\n",
    "class PredictionParams(BaseModel):\n",
    "    experiment_id: str\n",
    "    experiment_name: str\n",
    "    model_name: str\n",
    "    version: int\n",
    "    scaler_path: str\n",
    "    \n",
    "    class Config:\n",
    "        protected_namespaces = ()\n",
    "\n",
    "PredictionParams_data = {\n",
    "    \"experiment_id\": \"\",\n",
    "    \"experiment_name\": \"mlops-weather-forecasting\",\n",
    "    \"model_name\": \"weather_transformer\",\n",
    "    \"version\": 1,\n",
    "    \"scaler_path\": \"data_scaler.pkl\"\n",
    "}\n",
    "\n",
    "prediction_params = PredictionParams(**PredictionParams_data)\n",
    "response = requests.post(url, json=prediction_params.model_dump())"
   ]
  },
  {
   "cell_type": "code",
   "execution_count": 10,
   "id": "b2fd36b0-53ae-4408-aff2-9b27d7a0ef06",
   "metadata": {},
   "outputs": [
    {
     "data": {
      "text/plain": [
       "{'message': 'Monitoring already performed for 2023-12-20!',\n",
       " 'dt': '2023-12-20',\n",
       " 'rmse': 0.12144340409759381,\n",
       " 'count': 8}"
      ]
     },
     "execution_count": 10,
     "metadata": {},
     "output_type": "execute_result"
    }
   ],
   "source": [
    "response.json()"
   ]
  },
  {
   "cell_type": "code",
   "execution_count": null,
   "id": "56a8b4d6-316e-40a7-8d5d-1c5679102209",
   "metadata": {},
   "outputs": [],
   "source": []
  }
 ],
 "metadata": {
  "kernelspec": {
   "display_name": "Python 3 (ipykernel)",
   "language": "python",
   "name": "python3"
  },
  "language_info": {
   "codemirror_mode": {
    "name": "ipython",
    "version": 3
   },
   "file_extension": ".py",
   "mimetype": "text/x-python",
   "name": "python",
   "nbconvert_exporter": "python",
   "pygments_lexer": "ipython3",
   "version": "3.10.13"
  }
 },
 "nbformat": 4,
 "nbformat_minor": 5
}
